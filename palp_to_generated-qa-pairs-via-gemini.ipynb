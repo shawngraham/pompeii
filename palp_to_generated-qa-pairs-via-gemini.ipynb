{
 "cells": [
  {
   "cell_type": "markdown",
   "metadata": {
    "id": "JqX0OedY0Dx_"
   },
   "source": [
    "train a small vision model for Q&A based on palp images?"
   ]
  },
  {
   "cell_type": "code",
   "execution_count": null,
   "metadata": {
    "id": "zjHvIZcH0LR9"
   },
   "outputs": [],
   "source": [
    "#%%capture\n",
    "#!python3 -m pip install git+https://github.com/p-lod/plodlib\n",
    "#!pip install requests_cache\n",
    "#!pip install rdflib"
   ]
  },
  {
   "cell_type": "code",
   "execution_count": 1,
   "metadata": {
    "id": "WpDO_WAC1oWI"
   },
   "outputs": [],
   "source": [
    "import plodlib\n",
    "import json\n",
    "import pandas as pd\n",
    "from string import Template\n",
    "import rdflib as rdf\n",
    "import requests_cache\n",
    "import requests\n",
    "\n",
    "def search_images(search_term):\n",
    "  \"\"\"\n",
    "    Searches the P-LOD triplestore for resources whose labels\n",
    "    contain a specified term. Returns a list of image URLs\n",
    "    and associated information for those resources.\n",
    "\n",
    "    Args:\n",
    "        search_term (str): The term to search for within labels.\n",
    "\n",
    "    Returns:\n",
    "        list: A list of dictionaries, each containing information about an image\n",
    "        and its associated concept. Returns an empty list if no matching\n",
    "        results are found.\n",
    "    \"\"\"\n",
    "\n",
    "  # Connect to the remote triplestore with read-only connection\n",
    "  store = rdf.plugins.stores.sparqlstore.SPARQLStore(query_endpoint = \"http://52.170.134.25:3030/plod_endpoint/query\",\n",
    "                                       context_aware = False,\n",
    "                                       returnFormat = 'json')\n",
    "  g = rdf.Graph(store)\n",
    "\n",
    "  qt = Template(\"\"\"\n",
    "      PREFIX p-lod: <urn:p-lod:id:>\n",
    "      PREFIX rdfs: <http://www.w3.org/2000/01/rdf-schema#>\n",
    "      SELECT DISTINCT ?concept ?concept_label ?img_urn ?l_record ?l_media ?l_batch ?l_description\n",
    "      WHERE {\n",
    "        ?concept rdfs:label ?concept_label .\n",
    "        FILTER regex(?concept_label, \"$search_term\", \"i\")\n",
    "\n",
    "        { ?component p-lod:depicts ?concept .\n",
    "          ?component p-lod:best-image ?img_urn .\n",
    "         }\n",
    "         UNION\n",
    "         {\n",
    "           ?concept p-lod:best-image ?img_urn .\n",
    "         }\n",
    "\n",
    "        ?img_urn p-lod:x-luna-record-id ?l_record .\n",
    "        ?img_urn p-lod:x-luna-media-id  ?l_media .\n",
    "        ?img_urn p-lod:x-luna-batch-id  ?l_batch .\n",
    "        ?img_urn p-lod:x-luna-description ?l_description .\n",
    "      }\n",
    "  \"\"\")\n",
    "\n",
    "  results = g.query(qt.substitute(search_term = search_term))\n",
    "  results_df = pd.DataFrame(results, columns = results.json['head']['vars'])\n",
    "\n",
    "  if len(results_df) == 0:\n",
    "      return []\n",
    "\n",
    "  def add_luna_info_search(row):\n",
    "\n",
    "      img_src = None #default if no URLs present (probably means LUNA doesn't have image though triplestore thinks it does)\n",
    "      img_description = None\n",
    "      tilde_val = plodlib.luna_tilde_val(row['img_urn'])\n",
    "\n",
    "      luna_json = json.loads(requests.get(f'https://umassamherst.lunaimaging.com/luna/servlet/as/fetchMediaSearch?mid=umass~{tilde_val}~{tilde_val}~{row[\"l_record\"]}~{row[\"l_media\"]}&fullData=true').text)\n",
    "\n",
    "      if len(luna_json):\n",
    "          img_attributes = json.loads(luna_json[0]['attributes'])\n",
    "          if 'image_description_english' in img_attributes.keys():\n",
    "              img_description = img_attributes['image_description_english']\n",
    "          else:\n",
    "            try:\n",
    "                if   tilde_val == '14':\n",
    "                  img_description = json.loads(luna_json[0]['fieldValues'])[2]['value']\n",
    "                elif tilde_val == '16':\n",
    "                  img_description = json.loads(luna_json[0]['fieldValues'])[1]['value']\n",
    "                else:\n",
    "                  img_description = f\"unrecognized collection {tilde_val}\"\n",
    "            except:\n",
    "                img_description = \"Trying to get description failed\"\n",
    "\n",
    "          if 'urlSize4' in img_attributes.keys(): # use size 4, sure, but only if there's nothing else\n",
    "            img_src = img_attributes['urlSize4']\n",
    "          if 'urlSize2' in img_attributes.keys(): # preferred\n",
    "            img_src = img_attributes['urlSize2']\n",
    "          elif 'urlSize3' in img_attributes.keys():\n",
    "            img_src = img_attributes['urlSize3']\n",
    "          else:\n",
    "            img_src = img_attributes['urlSize1']\n",
    "\n",
    "      row['img_url'] = img_src\n",
    "      row['img_current_description'] = img_description\n",
    "      return row\n",
    "\n",
    "  results_df = results_df.apply(add_luna_info_search, axis = 1)\n",
    "\n",
    "  return results_df.to_dict(orient='records')\n",
    "\n",
    "\n"
   ]
  },
  {
   "cell_type": "code",
   "execution_count": 2,
   "metadata": {
    "colab": {
     "base_uri": "https://localhost:8080/"
    },
    "id": "FF222XAy88Ap",
    "outputId": "fd892824-8f57-40f2-dba7-567ff261bd7d"
   },
   "outputs": [
    {
     "name": "stdout",
     "output_type": "stream",
     "text": [
      "Concept: Artemis\n",
      "Image URL: http://umassamherst.lunaimaging.com/MediaManager/srvr?mediafile=/Size2/umass~14~14/4249/image61808.jpg\n",
      "Image Description: VI.5.3 Pompeii. December 2007. Room 20, detail of faded painting from west wall showing Apollo & Artemis. See Helbig, W., 1868. Wandgemälde der vom Vesuv verschütteten Städte Campaniens. Leipzig: Breitkopf und Härtel. (200). .\n",
      "---\n",
      "Concept: Artemis\n",
      "Image URL: http://umassamherst.lunaimaging.com/MediaManager/srvr?mediafile=/Size2/umass~16~16/4276/PPM4_252.jpg\n",
      "Image Description: 76. Viridarium (32): Tino, practically intact until the Second World War, during which it was bombed, the S wall, with a red background and black plinth with yellow panel and sphinxes facing either side of a gorgonion, was imagined as preceded by two statues of Nymphs-fountains on small pillars, each supporting a shell-shaped basin, with birds in flight and tambourines suspended from ribbons, broken through by a large arched window through which the scene of Ancona's death could be seen. The narration of the episode takes place in two moments: the young hunter, depicted in the background behind the rocks in the aposkopeìn gesture, he sees Artemis bathing in a rocky ravine (the Partenia source in Gargaphia of the Alexandrian version of the myth) which almost takes on the shape of a niche, in front of which are the hydrìa, symbol of spring waters on one side and the quiver, the spears, the radiated crown and the mantle of the goddess on the other. The latter, in a pose derived from that of Doidalsas' Aphrodite, but with notable modifications in the position of her arms, turns towards Actaeon with a threatening gesture and, having transformed him into a deer \\\"in fact, horns have sprouted on his forehead\\\" against his own dogs who, in this framework, in which the figures of the characters have larger proportions than in other versions of III or of the same IV style to fill the available space, have the characteristics of molossers. to FSC 1405\n",
      "---\n",
      "Concept: Artemis\n",
      "Image URL: http://umassamherst.lunaimaging.com/MediaManager/srvr?mediafile=/Size2/umass~14~14/4233/image47991.jpg\n",
      "Image Description: VI.2.4 Pompeii. 1830s. Old watercolour of the painting of Diana and Acteon. See Niccolini F, 1890. Le case ed i monumenti di Pompei: Volume Terzo. Napoli. (Casa detta di Sallustio, Tav III).\n",
      "---\n",
      "Concept: Artemis\n",
      "Image URL: http://umassamherst.lunaimaging.com/MediaManager/srvr?mediafile=/Size2/umass~16~16/4278/PPM9_1433.jpg\n",
      "Image Description: 13. Wing (c) wall N: of IV style with black socket fresco remains with plants, median area with a central shrine with panel and side panels with medallions (on the right was a head of Helios). IV style.79N53217\n",
      "---\n",
      "Concept: Artemis\n",
      "Image URL: http://umassamherst.lunaimaging.com/MediaManager/srvr?mediafile=/Size2/umass~14~14/4254/image66705.jpg\n",
      "Image Description: VII.15.13 Pompeii. 1885 watercolour painting of sacred landscape. North wall of triclinium.  The temple canopy is supported by a herm of Dionysus holding a kantharos and a thyrsus.\n",
      " Artemis, identified by her crown, bow, quiver, lance and the crown at the top of the pole, is sitting in the temple.\n",
      " See Carratelli, G. P., 1990-2003. Pompei: Pitture e Mosaici: Vol. VII.  Roma: Istituto della enciclopedia italiana, p. 832-3.\n",
      " DAIR 83.157. Photo é Deutsches Archäologisches Institut, Abteilung Rom, Arkiv.\n",
      "---\n",
      "Concept: Artemis\n",
      "Image URL: http://umassamherst.lunaimaging.com/MediaManager/srvr?mediafile=/Size2/umass~16~16/4275/PPM2_1005.jpg\n",
      "Image Description: 58. Triclinium (10), E wall, central section. Yellow middle area: painting with Artemis and Actaeon (fon 52.5 x 51). IV style. Diap. GFN S.N.\n",
      "---\n",
      "Concept: Artemis\n",
      "Image URL: http://umassamherst.lunaimaging.com/MediaManager/srvr?mediafile=/Size2/umass~16~16/4275/PPM1_110.jpg\n",
      "Image Description: 10. Triclinio (i), Wall S: central painting depicting an idyllic landscape with sacred temple, statue of female deity with the head modius (Artemis?), Ithyphallic statue of Priapus, bidder, shepherds and two goats (I know, no . 684): state of conservation of the 30's.Warsher 59\n",
      "---\n",
      "Concept: Artemis\n",
      "Image URL: http://umassamherst.lunaimaging.com/MediaManager/srvr?mediafile=/Size2/umass~14~14/4249/image61813.jpg\n",
      "Image Description: VI.5.3 Pompeii.  December 2007. Room 20 detail of painted plaster.\n",
      "---\n",
      "Concept: Artemis\n",
      "Image URL: http://umassamherst.lunaimaging.com/MediaManager/srvr?mediafile=/Size2/umass~14~14/4254/image66619.jpg\n",
      "Image Description: VII.12.26 Pompeii. Found in room on left hand side behind atrium. Wall painting of Artemis, seated, turning towards the nymph Callisto. Now in Naples Archaeological Museum. Inventory number 111441. See Helbig, W., 1868. Wandgemälde der vom Vesuv verschütteten Städte Campaniens. Leipzig: Breitkopf und Härtel. (253). According to Richardson, he thought this may have been a painting of Aeneas and Dido?  He wrote that a wall painting of Theseus abandoning Ariadne was also found in this room. Also found was a Tondo (medallions) with head of a Satyr, and Tondi with busts. See Richardson, L., 2000. A Catalog of Identifiable Figure Painters of Ancient Pompeii, Herculaneum. Baltimore: John Hopkins. (p.146)\n",
      "---\n",
      "Concept: Artemis\n",
      "Image URL: http://umassamherst.lunaimaging.com/MediaManager/srvr?mediafile=/Size2/umass~14~14/4226/image40563.jpg\n",
      "Image Description: III.4.b\n",
      "---\n",
      "Concept: Artemis\n",
      "Image URL: http://umassamherst.lunaimaging.com/MediaManager/srvr?mediafile=/Size2/umass~16~16/4277/PPM6_622.jpg\n",
      "Image Description: 198. Also Artemis with bow and quiver (H, 238; reproduction by G. Abbate, cfr. Draftsmen, p. 386, fig. 206) was represented on the S wall of the peristyle (31).\n",
      "---\n",
      "Concept: Artemis\n",
      "Image URL: http://umassamherst.lunaimaging.com/MediaManager/srvr?mediafile=/Size2/umass~14~14/4221/image36179.jpg\n",
      "Image Description: VII.4.48\n",
      "---\n",
      "Concept: Artemis\n",
      "Image URL: http://umassamherst.lunaimaging.com/MediaManager/srvr?mediafile=/Size2/umass~14~14/4066/image3669.jpg\n",
      "Image Description: IX.2.16\n",
      "---\n",
      "Concept: Artemis\n",
      "Image URL: http://umassamherst.lunaimaging.com/MediaManager/srvr?mediafile=/Size2/umass~16~16/4277/PPM5_1073.jpg\n",
      "Image Description: 37. Triclinium (l), wall E, central section: detail of the painting, found only in the lower left half and now completely lost, with Artemis and Zeus. The goddess, with radiated crown, quiver and bow was depicted standing at the throne of Zeus. 80N59723\n",
      "---\n",
      "Concept: Artemis\n",
      "Image URL: http://umassamherst.lunaimaging.com/MediaManager/srvr?mediafile=/Size2/umass~16~16/4277/PPM7_1080.jpg\n",
      "Image Description: 34. Environment (k), wall E: here was the fragmentary picture with Artemis and Kallistò (H, 255), subject also present in the adjacent house at no. 26 (cf. p. 580, fig. 26) as well as in the triclinium of the House of the Tragic Poet (cf. vol. IV, p. 581 fig. 102), a house whose decoration has significant points of contact with those of the S side of this insula (see above,  pp. 594-595). For the identification of the scene represented see. E. Simon, in LIMC II, p. 838, n. 342 a, s.v. Artemis/Diana, with entrance location; I. Me Phee, in LIMC, V, p. 943, n. 15, s.v. Kallisto.\n",
      "---\n",
      "Concept: Artemis\n",
      "Image URL: http://umassamherst.lunaimaging.com/MediaManager/srvr?mediafile=/Size2/umass~14~14/4225/image39397.jpg\n",
      "Image Description: IX.8.3\n",
      "---\n",
      "Concept: Artemis\n",
      "Image URL: http://umassamherst.lunaimaging.com/MediaManager/srvr?mediafile=/Size2/umass~16~16/4277/PPM6_1557.jpg\n",
      "Image Description: 12. Triclinium (g): documented only by a pencil drawing by G. Abbate (ADS 557B, v. Disegnatori, p. 299, fig. 96), executed in 1843 the painting (H, 1162) placed in the center of the wall W, left in situ has been completely lost. The scene shows the two young hunters in their usual clothing: Atalanta with short tunic and boots; Meleager, sitting, with chlamydes and spits addresses her, stretching out to his right; The dog and the wounded boar that complete the composition set in a rural sacellum, near a pillar surmounted by a crater on the banks of a stream, leave no doubt of interpretation. On another wall there must have been the painting with Mars and Venus, known to Helbig (H, 324) who had already given it to us, but disappeared, through a drawing by Abbate lost for us.\n",
      "---\n"
     ]
    }
   ],
   "source": [
    "search_term = \"artemis\"\n",
    "image_results = search_images(search_term)\n",
    "\n",
    "if image_results:\n",
    "    for item in image_results:\n",
    "        print(f\"Concept: {item['concept_label']}\")\n",
    "        print(f\"Image URL: {item['img_url']}\")\n",
    "        print(f\"Image Description: {item['img_current_description']}\")\n",
    "        print(\"---\")\n",
    "else:\n",
    "    print(f\"No images found for '{search_term}'\")"
   ]
  },
  {
   "cell_type": "code",
   "execution_count": 3,
   "metadata": {
    "colab": {
     "base_uri": "https://localhost:8080/"
    },
    "id": "_WuPS4qk6IVH",
    "outputId": "9878c9c8-9915-4b31-fa0e-ac9b10992c6e"
   },
   "outputs": [
    {
     "name": "stdout",
     "output_type": "stream",
     "text": [
      "Flattened data written to: artemis_output_flattened_default.csv\n"
     ]
    }
   ],
   "source": [
    "import pandas as pd\n",
    "import json\n",
    "\n",
    "def flatten_json_to_csv(json_data, output_csv, explode_list_column=None):\n",
    "  \"\"\"\n",
    "  Flattens JSON data and writes it to a CSV file.\n",
    "\n",
    "  Args:\n",
    "    json_data: A list of JSON objects (loaded from a file or a variable).\n",
    "    output_csv: The path to the output CSV file.\n",
    "    explode_list_column: (Optional) The name of a column that contains a list that you\n",
    "                       want to \"explode\" into multiple rows. If None, lists are\n",
    "                       converted to string representation.\n",
    "  \"\"\"\n",
    "  df = pd.json_normalize(json_data)\n",
    "\n",
    "  if explode_list_column:\n",
    "      df = df.explode(explode_list_column)\n",
    "\n",
    "  df.to_csv(output_csv, index=False)\n",
    "  print(f\"Flattened data written to: {output_csv}\")\n",
    "\n",
    "output_csv_file1 = search_term +\"_output_flattened_default.csv\"\n",
    "flatten_json_to_csv(image_results, output_csv_file1)"
   ]
  },
  {
   "cell_type": "code",
   "execution_count": 4,
   "metadata": {
    "colab": {
     "base_uri": "https://localhost:8080/"
    },
    "id": "GdHWRBYy7Gnj",
    "outputId": "1723f8e6-4ae8-4a16-d438-7036af70d1f3"
   },
   "outputs": [
    {
     "name": "stderr",
     "output_type": "stream",
     "text": [
      "Downloading Images: 100%|████████████████████████████| 17/17 [00:06<00:00,  2.83it/s]"
     ]
    },
    {
     "name": "stdout",
     "output_type": "stream",
     "text": [
      "Images downloaded and csv updated. Saved paths to the column local_image_path.\n"
     ]
    },
    {
     "name": "stderr",
     "output_type": "stream",
     "text": [
      "\n"
     ]
    }
   ],
   "source": [
    "import pandas as pd\n",
    "import requests\n",
    "import os\n",
    "from urllib.parse import urlparse, parse_qs\n",
    "from tqdm import tqdm\n",
    "\n",
    "\n",
    "def extract_filename_from_url(url):\n",
    "    \"\"\"Extracts the filename from a URL, handling cases with query parameters.\"\"\"\n",
    "    try:\n",
    "      parsed_url = urlparse(url)\n",
    "      if 'mediafile' in parsed_url.query:\n",
    "          query_params = parse_qs(parsed_url.query)\n",
    "          mediafile_value = query_params.get('mediafile', [None])[0]\n",
    "          if mediafile_value:\n",
    "              return os.path.basename(mediafile_value)\n",
    "\n",
    "      return os.path.basename(parsed_url.path)\n",
    "    except Exception as e:\n",
    "        print(f\"Could not parse url: {url}. Error: {e}\")\n",
    "        return None\n",
    "\n",
    "def download_images_from_csv(csv_file, image_column=\"img_url\", output_dir=\"downloaded_images\"):\n",
    "    \"\"\"Downloads images from URLs in a CSV file's specified column.\"\"\"\n",
    "\n",
    "    df = pd.read_csv(csv_file)\n",
    "\n",
    "    if not os.path.exists(output_dir):\n",
    "        os.makedirs(output_dir)\n",
    "\n",
    "    local_image_paths = []\n",
    "    for url in tqdm(df[image_column], desc=\"Downloading Images\"):\n",
    "        if not isinstance(url, str):\n",
    "            local_image_paths.append(None)\n",
    "            continue\n",
    "        try:\n",
    "            response = requests.get(url, stream=True, timeout=10)\n",
    "\n",
    "            if response.status_code == 200:\n",
    "                filename = extract_filename_from_url(url)\n",
    "                if not filename:\n",
    "                  print(f\"Could not extract a filename for {url}.\")\n",
    "                  local_image_paths.append(None)\n",
    "                  continue\n",
    "\n",
    "                filepath = os.path.join(output_dir, filename)\n",
    "                with open(filepath, \"wb\") as f:\n",
    "                    for chunk in response.iter_content(chunk_size=8192):\n",
    "                        f.write(chunk)\n",
    "                local_image_paths.append(filepath)\n",
    "            else:\n",
    "                print(f\"Failed to download {url}. Status code: {response.status_code}\")\n",
    "                local_image_paths.append(None)\n",
    "        except Exception as e:\n",
    "           print(f\"Error downloading {url}: {e}\")\n",
    "           local_image_paths.append(None)\n",
    "\n",
    "    df['local_image_path'] = local_image_paths\n",
    "    df.to_csv(csv_file, index=False)\n",
    "    return df\n",
    " #Usage\n",
    "\n",
    "# Replace 'your_data.csv' with the actual path to your CSV file\n",
    "csv_file = search_term + \"_output_flattened_default.csv\"\n",
    "downloaded_df = download_images_from_csv(csv_file)\n",
    "print(f\"Images downloaded and csv updated. Saved paths to the column local_image_path.\")"
   ]
  },
  {
   "cell_type": "markdown",
   "metadata": {
    "id": "EGQ0tlPfBM8h"
   },
   "source": [
    "now i would need to make sure that the csv file has a column that points to the actual image file name. Then i would want to pass each image one at a time to gemini, along with the description, and ask it to generate question and answer pairs that capture something of that knowledge as visible in the image, as well as other more generic things from the image (\"what kinds of objects are visible\") etc."
   ]
  },
  {
   "cell_type": "code",
   "execution_count": 6,
   "metadata": {
    "id": "fol0KZaZZ8l-"
   },
   "outputs": [],
   "source": [
    "# training set generator, not tested yet\n",
    "\n",
    "#set key\n",
    "#from google.colab import userdata\n",
    "GOOGLE_API_KEY = '' #userdata.get('GOOGLE_API_KEY')"
   ]
  },
  {
   "cell_type": "code",
   "execution_count": 7,
   "metadata": {
    "id": "IXleihpJCPrT"
   },
   "outputs": [],
   "source": [
    "import pandas as pd\n",
    "import google.generativeai as genai\n",
    "import os\n",
    "from tqdm import tqdm\n",
    "import json\n",
    "import time\n",
    "import traceback  # For detailed error messages\n",
    "import re  # Import the regular expression module\n",
    "\n",
    "\n",
    "\n",
    "genai.configure(api_key=GOOGLE_API_KEY)\n",
    "model = genai.GenerativeModel(\"gemini-1.5-flash\")  # Using Gemini Pro Vision\n",
    "\n",
    "\n",
    "def upload_image(image_path):\n",
    "    \"\"\"Uploads the image to Gemini and returns the file object.\"\"\"\n",
    "    try:\n",
    "        print(f\"  Uploading image: {image_path}\")\n",
    "        file_object = genai.upload_file(image_path)\n",
    "        print(f\"  Image uploaded successfully: {image_path}\")\n",
    "        return file_object\n",
    "    except Exception as e:\n",
    "        print(f\"  Error uploading image {image_path}: {e}\")\n",
    "        traceback.print_exc()\n",
    "        return None\n",
    "\n",
    "\n",
    "def generate_qa_pairs(image_path, text_description):\n",
    "    image_file = upload_image(image_path)\n",
    "    if image_file is None:\n",
    "      return []\n",
    "\n",
    "\n",
    "    prompt = (\n",
    "        \"Given the following image and text description, generate a set of \"\n",
    "        \"question-answer pairs related to the COMPOSITION and CONTENT and MEANING of the image. Draw on information contained in the \"\n",
    "        \"text description for content and meaning when appropriate. DO NOT return answers related to publishing, authorship, or physical location. DO NOT return phrases like 'according to the description', or 'according to the text'.\\n\"\n",
    "        \"Provide multiple answers where appropriate.  Format your output \"\n",
    "        \"as a JSON list of dictionaries (e.g. [{'question': '...', 'answers': [...]}])\\n\"\n",
    "        \"If no questions can be generated, return an empty JSON array: [].\\n\"\n",
    "        f\"Image Description:\\n{text_description}\\n\\n\"\n",
    "        \"Image:\\n\"\n",
    "    )\n",
    "\n",
    "    try:\n",
    "        print(f\"  Sending prompt to Gemini for {image_path}\")\n",
    "        response = model.generate_content([image_file, \"\\n\\n\", prompt])\n",
    "        print(f\"  Gemini response received for {image_path}\")\n",
    "\n",
    "        if response.prompt_feedback and response.prompt_feedback.block_reason:\n",
    "            print(f\"  Safety blocked. Reason: {response.prompt_feedback.block_reason}, for image {image_path}\")\n",
    "            return []\n",
    "\n",
    "        if response.text:\n",
    "            try:\n",
    "                # Remove markdown code block and \"json\" if present\n",
    "                cleaned_response = re.sub(r'^\\s*```(?:json)?\\s*|(?:\\s*```\\s*)$', '', response.text, flags=re.MULTILINE)\n",
    "                cleaned_response = cleaned_response.strip()\n",
    "\n",
    "                qa_pairs = json.loads(cleaned_response)\n",
    "                if not isinstance(qa_pairs, list):\n",
    "                    print(f\"  Invalid JSON response structure for {image_path}: {response.text}\")\n",
    "                    return []\n",
    "                print(f\"   JSON parsed successfully for {image_path}\")\n",
    "                return qa_pairs\n",
    "            except json.JSONDecodeError as e:\n",
    "                print(f\"  Error decoding JSON: {e}, for image {image_path}. Response was: {response.text}\")\n",
    "                traceback.print_exc()\n",
    "                return []\n",
    "        else:\n",
    "            print(f\"  Empty response from Gemini for image {image_path}.\")\n",
    "            return []\n",
    "    except Exception as e:\n",
    "        print(f\"  Error generating QA pairs: {e} for image {image_path}\")\n",
    "        traceback.print_exc()\n",
    "        return []\n",
    "\n",
    "\n",
    "def process_csv_and_generate_qa(input_csv, output_csv):\n",
    "    qa_data = []  # Initialize here so it's available in the try block below\n",
    "    try:\n",
    "        df = pd.read_csv(input_csv)\n",
    "    except FileNotFoundError:\n",
    "        print(f\"Input CSV file not found: {input_csv}\")\n",
    "        return\n",
    "\n",
    "    try:\n",
    "        for index, row in tqdm(df.iterrows(), total=len(df), desc=\"Generating QA Pairs\", position=0, leave=True):\n",
    "            image_path = row['local_image_path']\n",
    "            text_description = row['img_current_description']\n",
    "\n",
    "            # Explicitly handle NaN\n",
    "            if pd.isna(image_path):\n",
    "              print(f\"Skipping row {index} because 'local_image_path' is NaN.\")\n",
    "              continue\n",
    "\n",
    "            if not (image_path and text_description):\n",
    "                print(f\"Image or description missing at row {index}. Skipping row.\")\n",
    "                continue\n",
    "\n",
    "            if not isinstance(image_path, str):\n",
    "                print(f\"Image path is not a string (type is {type(image_path)}) at row {index}. Skipping.\")\n",
    "                continue\n",
    "\n",
    "            if not os.path.exists(image_path):\n",
    "                print(f\"Image not found at {image_path} for row {index}. Skipping.\")\n",
    "                continue\n",
    "\n",
    "            print(f\"Processing row {index}, Image: {image_path}\")\n",
    "\n",
    "            qa_pairs = generate_qa_pairs(image_path, text_description)\n",
    "\n",
    "            for qa in qa_pairs or []:\n",
    "                qa_data.append({\n",
    "                    'id': os.path.basename(image_path),\n",
    "                    'question': qa.get('question', None),\n",
    "                    'answers': str(qa.get('answers', None)) if qa.get('answers') is not None else '[]'\n",
    "                })\n",
    "\n",
    "            time.sleep(1)  # crucial delay\n",
    "\n",
    "\n",
    "        qa_df = pd.DataFrame(qa_data)\n",
    "        qa_df.to_csv(output_csv, index=False)\n",
    "        print(f\"QA pairs generated and saved to {output_csv}\")\n",
    "\n",
    "    except Exception as e:\n",
    "      print(f\"An error occurred during processing: {e}\")\n",
    "      traceback.print_exc()\n",
    "\n",
    "      if qa_data:\n",
    "        temp_output_csv = f\"{output_csv}.partial.csv\"\n",
    "        temp_qa_df = pd.DataFrame(qa_data)\n",
    "        temp_qa_df.to_csv(temp_output_csv, index=False)\n",
    "        print(f\"Partial QA data saved to {temp_output_csv}\")\n",
    "      else:\n",
    "        print(\"No QA data to save.\")\n",
    "\n",
    "\n",
    "\n",
    "# Example Usage (replace with your file paths)\n",
    "# process_csv_and_generate_qa(\"your_input.csv\", \"your_output.csv\")"
   ]
  },
  {
   "cell_type": "code",
   "execution_count": 8,
   "metadata": {
    "colab": {
     "base_uri": "https://localhost:8080/"
    },
    "id": "NNTYhRSuVmSd",
    "outputId": "24ab4109-661b-4dec-b868-53c381dc100d"
   },
   "outputs": [
    {
     "name": "stderr",
     "output_type": "stream",
     "text": [
      "Generating QA Pairs:   0%|                                    | 0/17 [00:00<?, ?it/s]"
     ]
    },
    {
     "name": "stdout",
     "output_type": "stream",
     "text": [
      "Processing row 0, Image: downloaded_images/image61808.jpg\n",
      "  Uploading image: downloaded_images/image61808.jpg\n",
      "  Image uploaded successfully: downloaded_images/image61808.jpg\n",
      "  Sending prompt to Gemini for downloaded_images/image61808.jpg\n",
      "  Gemini response received for downloaded_images/image61808.jpg\n",
      "   JSON parsed successfully for downloaded_images/image61808.jpg\n"
     ]
    },
    {
     "name": "stderr",
     "output_type": "stream",
     "text": [
      "Generating QA Pairs:   6%|█▋                          | 1/17 [00:07<01:58,  7.38s/it]"
     ]
    },
    {
     "name": "stdout",
     "output_type": "stream",
     "text": [
      "Processing row 1, Image: downloaded_images/PPM4_252.jpg\n",
      "  Uploading image: downloaded_images/PPM4_252.jpg\n",
      "  Image uploaded successfully: downloaded_images/PPM4_252.jpg\n",
      "  Sending prompt to Gemini for downloaded_images/PPM4_252.jpg\n",
      "  Gemini response received for downloaded_images/PPM4_252.jpg\n",
      "   JSON parsed successfully for downloaded_images/PPM4_252.jpg\n"
     ]
    },
    {
     "name": "stderr",
     "output_type": "stream",
     "text": [
      "Generating QA Pairs:  12%|███▎                        | 2/17 [00:14<01:52,  7.47s/it]"
     ]
    },
    {
     "name": "stdout",
     "output_type": "stream",
     "text": [
      "Processing row 2, Image: downloaded_images/image47991.jpg\n",
      "  Uploading image: downloaded_images/image47991.jpg\n",
      "  Image uploaded successfully: downloaded_images/image47991.jpg\n",
      "  Sending prompt to Gemini for downloaded_images/image47991.jpg\n",
      "  Gemini response received for downloaded_images/image47991.jpg\n",
      "   JSON parsed successfully for downloaded_images/image47991.jpg\n"
     ]
    },
    {
     "name": "stderr",
     "output_type": "stream",
     "text": [
      "Generating QA Pairs:  18%|████▉                       | 3/17 [00:22<01:46,  7.62s/it]"
     ]
    },
    {
     "name": "stdout",
     "output_type": "stream",
     "text": [
      "Processing row 3, Image: downloaded_images/PPM9_1433.jpg\n",
      "  Uploading image: downloaded_images/PPM9_1433.jpg\n",
      "  Image uploaded successfully: downloaded_images/PPM9_1433.jpg\n",
      "  Sending prompt to Gemini for downloaded_images/PPM9_1433.jpg\n",
      "  Gemini response received for downloaded_images/PPM9_1433.jpg\n",
      "   JSON parsed successfully for downloaded_images/PPM9_1433.jpg\n"
     ]
    },
    {
     "name": "stderr",
     "output_type": "stream",
     "text": [
      "Generating QA Pairs:  24%|██████▌                     | 4/17 [00:29<01:34,  7.27s/it]"
     ]
    },
    {
     "name": "stdout",
     "output_type": "stream",
     "text": [
      "Processing row 4, Image: downloaded_images/image66705.jpg\n",
      "  Uploading image: downloaded_images/image66705.jpg\n",
      "  Image uploaded successfully: downloaded_images/image66705.jpg\n",
      "  Sending prompt to Gemini for downloaded_images/image66705.jpg\n",
      "  Gemini response received for downloaded_images/image66705.jpg\n",
      "   JSON parsed successfully for downloaded_images/image66705.jpg\n"
     ]
    },
    {
     "name": "stderr",
     "output_type": "stream",
     "text": [
      "Generating QA Pairs:  29%|████████▏                   | 5/17 [00:37<01:28,  7.40s/it]"
     ]
    },
    {
     "name": "stdout",
     "output_type": "stream",
     "text": [
      "Processing row 5, Image: downloaded_images/PPM2_1005.jpg\n",
      "  Uploading image: downloaded_images/PPM2_1005.jpg\n",
      "  Image uploaded successfully: downloaded_images/PPM2_1005.jpg\n",
      "  Sending prompt to Gemini for downloaded_images/PPM2_1005.jpg\n",
      "  Gemini response received for downloaded_images/PPM2_1005.jpg\n",
      "   JSON parsed successfully for downloaded_images/PPM2_1005.jpg\n"
     ]
    },
    {
     "name": "stderr",
     "output_type": "stream",
     "text": [
      "Generating QA Pairs:  35%|█████████▉                  | 6/17 [00:44<01:22,  7.46s/it]"
     ]
    },
    {
     "name": "stdout",
     "output_type": "stream",
     "text": [
      "Processing row 6, Image: downloaded_images/PPM1_110.jpg\n",
      "  Uploading image: downloaded_images/PPM1_110.jpg\n",
      "  Image uploaded successfully: downloaded_images/PPM1_110.jpg\n",
      "  Sending prompt to Gemini for downloaded_images/PPM1_110.jpg\n",
      "  Gemini response received for downloaded_images/PPM1_110.jpg\n",
      "   JSON parsed successfully for downloaded_images/PPM1_110.jpg\n"
     ]
    },
    {
     "name": "stderr",
     "output_type": "stream",
     "text": [
      "Generating QA Pairs:  41%|███████████▌                | 7/17 [00:51<01:12,  7.27s/it]"
     ]
    },
    {
     "name": "stdout",
     "output_type": "stream",
     "text": [
      "Processing row 7, Image: downloaded_images/image61813.jpg\n",
      "  Uploading image: downloaded_images/image61813.jpg\n",
      "  Image uploaded successfully: downloaded_images/image61813.jpg\n",
      "  Sending prompt to Gemini for downloaded_images/image61813.jpg\n",
      "  Gemini response received for downloaded_images/image61813.jpg\n",
      "   JSON parsed successfully for downloaded_images/image61813.jpg\n"
     ]
    },
    {
     "name": "stderr",
     "output_type": "stream",
     "text": [
      "Generating QA Pairs:  47%|█████████████▏              | 8/17 [00:58<01:05,  7.32s/it]"
     ]
    },
    {
     "name": "stdout",
     "output_type": "stream",
     "text": [
      "Processing row 8, Image: downloaded_images/image66619.jpg\n",
      "  Uploading image: downloaded_images/image66619.jpg\n",
      "  Image uploaded successfully: downloaded_images/image66619.jpg\n",
      "  Sending prompt to Gemini for downloaded_images/image66619.jpg\n",
      "  Gemini response received for downloaded_images/image66619.jpg\n",
      "   JSON parsed successfully for downloaded_images/image66619.jpg\n"
     ]
    },
    {
     "name": "stderr",
     "output_type": "stream",
     "text": [
      "Generating QA Pairs:  53%|██████████████▊             | 9/17 [01:06<00:57,  7.25s/it]"
     ]
    },
    {
     "name": "stdout",
     "output_type": "stream",
     "text": [
      "Processing row 9, Image: downloaded_images/image40563.jpg\n",
      "  Uploading image: downloaded_images/image40563.jpg\n",
      "  Image uploaded successfully: downloaded_images/image40563.jpg\n",
      "  Sending prompt to Gemini for downloaded_images/image40563.jpg\n",
      "  Gemini response received for downloaded_images/image40563.jpg\n",
      "   JSON parsed successfully for downloaded_images/image40563.jpg\n"
     ]
    },
    {
     "name": "stderr",
     "output_type": "stream",
     "text": [
      "Generating QA Pairs:  59%|███████████████▉           | 10/17 [01:13<00:50,  7.18s/it]"
     ]
    },
    {
     "name": "stdout",
     "output_type": "stream",
     "text": [
      "Processing row 10, Image: downloaded_images/PPM6_622.jpg\n",
      "  Uploading image: downloaded_images/PPM6_622.jpg\n",
      "  Image uploaded successfully: downloaded_images/PPM6_622.jpg\n",
      "  Sending prompt to Gemini for downloaded_images/PPM6_622.jpg\n",
      "  Gemini response received for downloaded_images/PPM6_622.jpg\n",
      "   JSON parsed successfully for downloaded_images/PPM6_622.jpg\n"
     ]
    },
    {
     "name": "stderr",
     "output_type": "stream",
     "text": [
      "Generating QA Pairs:  65%|█████████████████▍         | 11/17 [01:19<00:42,  7.02s/it]"
     ]
    },
    {
     "name": "stdout",
     "output_type": "stream",
     "text": [
      "Processing row 11, Image: downloaded_images/image36179.jpg\n",
      "  Uploading image: downloaded_images/image36179.jpg\n",
      "  Image uploaded successfully: downloaded_images/image36179.jpg\n",
      "  Sending prompt to Gemini for downloaded_images/image36179.jpg\n",
      "  Gemini response received for downloaded_images/image36179.jpg\n",
      "   JSON parsed successfully for downloaded_images/image36179.jpg\n"
     ]
    },
    {
     "name": "stderr",
     "output_type": "stream",
     "text": [
      "Generating QA Pairs:  71%|███████████████████        | 12/17 [01:27<00:35,  7.15s/it]"
     ]
    },
    {
     "name": "stdout",
     "output_type": "stream",
     "text": [
      "Processing row 12, Image: downloaded_images/image3669.jpg\n",
      "  Uploading image: downloaded_images/image3669.jpg\n",
      "  Image uploaded successfully: downloaded_images/image3669.jpg\n",
      "  Sending prompt to Gemini for downloaded_images/image3669.jpg\n",
      "  Gemini response received for downloaded_images/image3669.jpg\n",
      "   JSON parsed successfully for downloaded_images/image3669.jpg\n"
     ]
    },
    {
     "name": "stderr",
     "output_type": "stream",
     "text": [
      "Generating QA Pairs:  76%|████████████████████▋      | 13/17 [01:33<00:27,  6.84s/it]"
     ]
    },
    {
     "name": "stdout",
     "output_type": "stream",
     "text": [
      "Processing row 13, Image: downloaded_images/PPM5_1073.jpg\n",
      "  Uploading image: downloaded_images/PPM5_1073.jpg\n",
      "  Image uploaded successfully: downloaded_images/PPM5_1073.jpg\n",
      "  Sending prompt to Gemini for downloaded_images/PPM5_1073.jpg\n",
      "  Gemini response received for downloaded_images/PPM5_1073.jpg\n",
      "   JSON parsed successfully for downloaded_images/PPM5_1073.jpg\n"
     ]
    },
    {
     "name": "stderr",
     "output_type": "stream",
     "text": [
      "Generating QA Pairs:  82%|██████████████████████▏    | 14/17 [01:40<00:20,  6.99s/it]"
     ]
    },
    {
     "name": "stdout",
     "output_type": "stream",
     "text": [
      "Processing row 14, Image: downloaded_images/PPM7_1080.jpg\n",
      "  Uploading image: downloaded_images/PPM7_1080.jpg\n",
      "  Image uploaded successfully: downloaded_images/PPM7_1080.jpg\n",
      "  Sending prompt to Gemini for downloaded_images/PPM7_1080.jpg\n",
      "  Gemini response received for downloaded_images/PPM7_1080.jpg\n",
      "   JSON parsed successfully for downloaded_images/PPM7_1080.jpg\n"
     ]
    },
    {
     "name": "stderr",
     "output_type": "stream",
     "text": [
      "Generating QA Pairs:  88%|███████████████████████▊   | 15/17 [01:47<00:13,  6.87s/it]"
     ]
    },
    {
     "name": "stdout",
     "output_type": "stream",
     "text": [
      "Processing row 15, Image: downloaded_images/image39397.jpg\n",
      "  Uploading image: downloaded_images/image39397.jpg\n",
      "  Image uploaded successfully: downloaded_images/image39397.jpg\n",
      "  Sending prompt to Gemini for downloaded_images/image39397.jpg\n",
      "  Gemini response received for downloaded_images/image39397.jpg\n",
      "   JSON parsed successfully for downloaded_images/image39397.jpg\n"
     ]
    },
    {
     "name": "stderr",
     "output_type": "stream",
     "text": [
      "Generating QA Pairs:  94%|█████████████████████████▍ | 16/17 [01:54<00:06,  6.97s/it]"
     ]
    },
    {
     "name": "stdout",
     "output_type": "stream",
     "text": [
      "Processing row 16, Image: downloaded_images/PPM6_1557.jpg\n",
      "  Uploading image: downloaded_images/PPM6_1557.jpg\n",
      "  Image uploaded successfully: downloaded_images/PPM6_1557.jpg\n",
      "  Sending prompt to Gemini for downloaded_images/PPM6_1557.jpg\n",
      "  Gemini response received for downloaded_images/PPM6_1557.jpg\n",
      "   JSON parsed successfully for downloaded_images/PPM6_1557.jpg\n"
     ]
    },
    {
     "name": "stderr",
     "output_type": "stream",
     "text": [
      "Generating QA Pairs: 100%|███████████████████████████| 17/17 [02:01<00:00,  7.13s/it]"
     ]
    },
    {
     "name": "stdout",
     "output_type": "stream",
     "text": [
      "QA pairs generated and saved to artemis_qa_pairs.csv\n"
     ]
    },
    {
     "name": "stderr",
     "output_type": "stream",
     "text": [
      "\n"
     ]
    }
   ],
   "source": [
    "\n",
    "# do the thing!\n",
    "\n",
    "input_csv_file = search_term + \"_output_flattened_default.csv\"\n",
    "output_csv_file = search_term + '_qa_pairs.csv'\n",
    "process_csv_and_generate_qa(input_csv_file, output_csv_file)"
   ]
  },
  {
   "cell_type": "markdown",
   "metadata": {
    "id": "laN-gc_M9n_L"
   },
   "source": [
    "#-----"
   ]
  },
  {
   "cell_type": "code",
   "execution_count": null,
   "metadata": {
    "colab": {
     "base_uri": "https://localhost:8080/"
    },
    "id": "rueNeWLlb9vp",
    "outputId": "a3ffc3d3-52a4-4787-e144-ab8f322ded49"
   },
   "outputs": [
    {
     "name": "stdout",
     "output_type": "stream",
     "text": [
      "Concept: Theseus\n",
      "Image URL: http://umassamherst.lunaimaging.com/MediaManager/srvr?mediafile=/Size2/umass~16~16/4278/PPM9_20.jpg\n",
      "Image Description: 12. Cubicle (b), wall E: the small residue of lunette-shaped plaster is an indication of the type of roofing of this room with a false ceiling vault, of which no other trace remains. Perhaps in the lunette there was \\\"the painted decoration of some weapon, vase and mask\\\" noted by Kekulé (cited in the bibl., p. 168). The decoration of the median area featured the central tympanum aedicula within which was the picture of Theseus who is about to board the ship, leaving Ariadne who is beyond the stern of the boat on the right; the presence of a spearhead, another element recognizable at the time, refers to Athena assisting the hero. The panels were red, surmounted by a purple frieze with scenes from the childhood of Dionysus and the young Dionysus and the Nymphs; in the upper area we still seem to glimpse the traces of a caryatid, with its left arm raised, in the pose of the Herculaneum Dancers. 79N54264\n",
      "---\n",
      "Concept: Theseus\n",
      "Image URL: http://umassamherst.lunaimaging.com/MediaManager/srvr?mediafile=/Size2/umass~14~14/4220/image35713.jpg\n",
      "Image Description: VI.16.7\n",
      "---\n",
      "Concept: Theseus\n",
      "Image URL: http://umassamherst.lunaimaging.com/MediaManager/srvr?mediafile=/Size2/umass~16~16/4275/PPM10_132.jpg\n",
      "Image Description: 33. Triclinio (l), S wall: in the current conditions is no longer possible to grasp any of the details visible at the time of excavation, and described by Mau (cit. In bibliography., P. 118), from which we learn that in the above frieze the side panels there was an alternating landscape to a dead nature with birds pecking and that in the upper zone there were architectures.79 N52630\n",
      "---\n",
      "Concept: Theseus\n",
      "Image URL: http://umassamherst.lunaimaging.com/MediaManager/srvr?mediafile=/Size2/umass~16~16/4275/PPM1_1508.jpg\n",
      "Image Description: 82. Tablino (16), wall N to O of the door. Geometric Black Socket; median zone: central kiosk with framework (Ariadne, Athena, Theseus), yellow dais with vignette (bird and cherries), Green panel with vignette (cupid). III final style.Vi AFSC2I90\n",
      "---\n",
      "Concept: Theseus\n",
      "Image URL: http://umassamherst.lunaimaging.com/MediaManager/srvr?mediafile=/Size2/umass~14~14/4256/image68199.jpg\n",
      "Image Description: IX.2.21 Pompeii. March 2009. Room 3, south wall of ala.\n",
      "---\n",
      "Concept: Theseus\n",
      "Image URL: http://umassamherst.lunaimaging.com/MediaManager/srvr?mediafile=/Size2/umass~16~16/4276/PPM4_1101.jpg\n",
      "Image Description: 9. Oecus (12), wall N: the watercolor kept in the National Museum of Naples is the only graphic documentation of one of the paintings in this room. The scene is reduced to the essentials: a very young Theseus, with chlamys and sword, looks towards the now dead Minotaur, who lies on the ground near the entrance to the Labyrinth, built in regular isodomic blocks. The monumentality of other replicas of the same subject is completely missing (the reference to the great painting from the Basilica of Herculaneum is valid) closer to the original model of early Hellenism in which the hero is surrounded by jubilant youngsters, among whom Ariadne is confused . ADS 295 (Photo Pedicini)\n",
      "---\n",
      "Concept: Theseus\n",
      "Image URL: http://umassamherst.lunaimaging.com/MediaManager/srvr?mediafile=/Size2/umass~16~16/4277/PPM5_738.jpg\n",
      "Image Description: 40. Cubicle (11), W wall: another tragic love story of the Cretan issue was a companion piece to the abandonment of Ariadne (sons of Minos and Pasilae) by Text (H. 1219), after the hero had managed, with the help of Ariadne, to kill the Minotaur, born of Pasiphae, the framework (see. Parise Badoni DDA 1990) and preserved only in this design by A. Aureli (Archive DAIR) and a photo Warsher (Warsher AAR, n. 208).\n",
      "---\n",
      "Concept: Theseus\n",
      "Image URL: http://umassamherst.lunaimaging.com/MediaManager/srvr?mediafile=/Size2/umass~16~16/4277/PPM6_1011.jpg\n",
      "Image Description: 55. Exedra (o); at the center of the wall E was the painting (97 x 88 cm) with Theseus liberator, now in the Museum of Naples (inv.9043) which, as is known, refers to the same Hellenistic model of the great Herculaneum painting (MNN inv. 9049) but the result is presented as a \\\"clumsy translation ... in vernacular campiano\\\" (Bianchi Bandinelli 1950). And in fact there are many uncertainties of the Pompeian copyist especially in the treatment of the anatomy so much of the hero with sagging shoulders, the arms too short and the features of the face coarse and vulgar, as much as the Minotaur that can be glimpsed in the lower left. The mosuo has been conveniently hidden inside a door, so as not to have to face the foreshortening vision and what little you see, especially the arm, is ridiculously short. Errors continue to exist in the anatomy of children who are close to the hero; the faces of the characters of the Cretan group and the young Athenians are devoid of any solemnity, while their arrangement is correct, which evidently derives from a cardboard suitable for measures and proportions to the painting, whose heroic subject remains completely foreign to the Pompeian painter who faced it as if it were \\\"a news story\\\" (Bianchi Bandinelli 1976).\n",
      "---\n",
      "Concept: Theseus\n",
      "Image URL: http://umassamherst.lunaimaging.com/MediaManager/srvr?mediafile=/Size2/umass~14~14/4239/image52937.jpg\n",
      "Image Description: IX.5.14 Pompeii. 1881. Room ‚“e‚”, east wall, copy of wall painting of Theseus and Ariadne with the Minotaur. Found on the east wall of the ala ‚“e‚”, on the north side of the atrium.\n",
      "See Presuhn E., 1882. Pompeji: Die Neuesten Ausgrabungen  von 1874 bis 1881. Leipzig: Weigel. (VIII, Plate V).\n",
      "---\n",
      "Concept: Theseus\n",
      "Image URL: http://umassamherst.lunaimaging.com/MediaManager/srvr?mediafile=/Size2/umass~14~14/4240/image53087.jpg\n",
      "Image Description: IX.7.20 Pompeii.  Wall painting by Discanno from east wall of room (L).\n",
      "Ariadne giving the ball of thread to Theseus to help his find his way out from the labyrinth.\n",
      "DAIR 83.314.  Photo ‚é Deutsches Archäologisches Institut, Abteilung Rom, Arkiv. \n",
      "See http://arachne.uni-koeln.de/item/marbilder/5343212\n",
      "---\n",
      "Concept: Theseus\n",
      "Image URL: http://umassamherst.lunaimaging.com/MediaManager/srvr?mediafile=/Size2/umass~14~14/4236/image50065.jpg\n",
      "Image Description: VII.4.48 Pompeii. Room 11, east wall of tablinum. Painting of Ariadne giving Theseus the ball of string that will guide him out of the labyrinth. Now in Naples Archaeological Museum. Inventory number: 9048.\n",
      "---\n",
      "Concept: Theseus\n",
      "Image URL: http://umassamherst.lunaimaging.com/MediaManager/srvr?mediafile=/Size2/umass~14~14/4256/image68649.jpg\n",
      "Image Description: IX.9.11 Pompeii.  March 2009.  Room 6. Garden area.  South wall and south west corner, with remains of Lararium painting.\n",
      "---\n",
      "Concept: Theseus\n",
      "Image URL: http://umassamherst.lunaimaging.com/MediaManager/srvr?mediafile=/Size2/umass~14~14/4240/image53129.jpg\n",
      "Image Description: IX.8.6 Pompeii. December 2007. Room 38, triclinium, north wall. Wall painting of Theseus and the Minotaur. Theseus is seated, with his club in his right hand and with his right foot on the minotaur. A male figure is seen in portrait profile. See Sogliano, A., 1879. Le pitture murali campane scoverte negli anni 1867-79. Napoli: Giannini. (No. 530).\n",
      "---\n",
      "Concept: Theseus\n",
      "Image URL: http://umassamherst.lunaimaging.com/MediaManager/srvr?mediafile=/Size2/umass~16~16/4275/PPM2_1231.jpg\n",
      "Image Description: 22. Cubiculum (3), wall W, central area: central painting depicting Theseus naked with his right hand raised as he receives the thread from Ariadne, seen from behind with the ball in his left hand and at his feet the clothes placed by Theseus. Like all the III style paintings in the house, the painting is the work of the workshop that also decorated the House of M. Lucretius Pronto (V 4,a). The same subject also appears in the cubiculum (h) of the latter. 77N36624\n",
      "---\n",
      "Concept: Theseus\n",
      "Image URL: http://umassamherst.lunaimaging.com/MediaManager/srvr?mediafile=/Size2/umass~14~14/4231/image45924.jpg\n",
      "Image Description: I.11.15 Pompeii.  December 2007.  Room 13.  Remains of the painting of Ariadne abandoned by Theseus.\n",
      "---\n",
      "Concept: Theseus\n",
      "Image URL: http://umassamherst.lunaimaging.com/MediaManager/srvr?mediafile=/Size2/umass~16~16/4277/PPM5_1309.jpg\n",
      "Image Description: 130. Esedra (G), Wall N: W is the stretch in the atrium door (B) with jambs in opus board tum mixtum originally provided dì timbered. The jambs opus iòttaium were rebuilt along the wall badly damaged by the earthquake of 62 A.D. ; The wall decoration was completely restaurala old. The decorative pattern reflects that of the S wall, the execution is however less cured than the original, the colors more opaque and less contrastali. Unlike the S wall, we find here, in the lateral field E. traces of a gyral ocher leaflets. 11 central framework, Teti in the forge of Hephaestus, is abruptly cut on the left side from the door jamb. Painted rebuilt according to the original style III after the 62 A.D. DAIB 79.2.009\n",
      "---\n",
      "Concept: Theseus\n",
      "Image URL: http://umassamherst.lunaimaging.com/MediaManager/srvr?mediafile=/Size2/umass~16~16/4277/PPM7_1006.jpg\n",
      "Image Description: 13. Triclinium (h), wall N, central mat: picture with the abandonment of Ariadne by Theseus (PI, 1231). The girl wakes up on the beach of Naxos, where she is represented in the company of winged Nemesis, on the left, who shows her the boat of Theseus that moves away, and a cupid that wipes its tears lowering its (useless) bow. In the lower right corner are two personifications that allude to the marine setting of the story. It is interesting to note how the painting, which presents us with the 'escapist' version of the story of Theseus and Ariadne, maintains on the left the figure of Athena emerging from the rocks: the presence of the goddess belongs to the heroic reading of this episode, a favorite reading in the Augustan age, which emphasizes the figure of Theseus who abandons the young woman because he is called to refound Athens. In the House of the Tragic Poet VI 8, 3 - which contains significant points of contact with the decoration of this house - the same iconographic redaction of our triclinium is adopted in a cubicle (cf. vol. IV, p. 563, fig. 72), while the triclinium of the house, decorated in the same phase, adopts the heroic version of the episode: this circumstance also confirms precisely the different meaning of the two iconographic redactions of the same episode to which we have mentioned above (cfr. vol. IV, p. 563, fig. 72 and p. 576, fig. 94; Bragantini 1995, p. 192). It is very likely that from the painting of the triclinium of the House of the tragic poet our painter drew the idea of inserting the figure of Athena in the scene of the awakening of Ariadne, thus implementing a sort of episodic contamination between the two iconographies and the two readings. Another cupid leans out of the rock in the upper left. IV style.\n",
      "---\n",
      "Concept: Theseus\n",
      "Image URL: http://umassamherst.lunaimaging.com/MediaManager/srvr?mediafile=/Size2/umass~14~14/4240/image53225.jpg\n",
      "Image Description: IX.8.8 Pompeii. 1890 sketch of painting of Theseus abandoning Ariadne. According to NdS, in a room, not yet entirely excavated in 1891, of a small house to the south of the House of the Centenary, a badly conserved painting was found on the west wall. It showed Theseus abandoning Ariadne. It was 1.09m high by 1m wide. The sleeping Ariadne was on the left but was completely destroyed. On the right is a ladder which acts as a bridge resting on the prow of the ship. On the bridge is the naked Theseus giving his right hand to a bearded sailor who helps him climb aboard. In the background is a cliff, behind which Pallas descends from above, armed with helmet shield and spear. See Mau, A., 1890. Mitteilungen des Kaiserlich Deutschen Archaeologischen Instituts, Roemische Abtheilung Volume V. p. 277.\n",
      "See Notizie degli Scavi di Antichitƒ , 1891, p. 265.\n",
      "---\n",
      "Concept: Theseus\n",
      "Image URL: http://umassamherst.lunaimaging.com/MediaManager/srvr?mediafile=/Size2/umass~14~14/4211/image26842.jpg\n",
      "Image Description: V.1.26\n",
      "---\n",
      "Concept: Theseus\n",
      "Image URL: http://umassamherst.lunaimaging.com/MediaManager/srvr?mediafile=/Size2/umass~14~14/4066/image3765.jpg\n",
      "Image Description: VI.14.38\n",
      "---\n",
      "Concept: Theseus\n",
      "Image URL: http://umassamherst.lunaimaging.com/MediaManager/srvr?mediafile=/Size2/umass~14~14/4250/image62355.jpg\n",
      "Image Description: VI.9.2 Pompeii.   About 1834.  Room 24.  Corinthian Oecus.  East wall.   Sketch of wall painting of Theseus and Ariadne with the dead Minotaur. See Real Museo Borbonico X (Pl:51). See Helbig, W., 1868. Wandgemälde der vom Vesuv verschütteten Städte Campaniens. Leipzig: Breitkopf und Härtel. (1215)\n",
      "---\n",
      "Concept: Theseus\n",
      "Image URL: http://umassamherst.lunaimaging.com/MediaManager/srvr?mediafile=/Size2/umass~14~14/4223/image38455.jpg\n",
      "Image Description: V.4.a\n",
      "---\n",
      "Concept: Theseus\n",
      "Image URL: http://umassamherst.lunaimaging.com/MediaManager/srvr?mediafile=/Size2/umass~16~16/4277/PPM6_1908.jpg\n",
      "Image Description: 138. Oecus (33): mythological painting in the center of wall N, (Napoli Museo Naz., inv. 9052; cf. fig. previous). Of the painting we have the description of Helbig (H, 255, no. 1217): Theseus lingers with his left foot on the pier of his boat and looks at Ariadne lying asleep on the shore on shaggy blankets. He raises his left hand as if in a monologue, while with his right hand he stops the reddish cloak lined with blue that covers his left shoulder and back. Its head is adorned with a crown of whitish leaves. Arianna has her hair gathered in a pink retina and places it on double bracelets and is covered, from the hips in gia, by a green cloak lined with purple. In the background is the sea and the walls of a city.\n",
      "---\n",
      "Concept: Theseus\n",
      "Image URL: http://umassamherst.lunaimaging.com/MediaManager/srvr?mediafile=/Size2/umass~14~14/4235/image49915.jpg\n",
      "Image Description: VII.4.31 Pompeii. March 2009. Room 31, wall painting of Theseus abandoning Ariadne. Theseus is looking at the sleeping Ariadne who is on the beach on a bed of seaweed.\n",
      "His foot is on the plank of the ship that will take him to Athens. See Helbig, W., 1868. Wandgemälde der vom Vesuv verschƒütteten Städte Campaniens. Leipzig: Breitkopf und Härtel. (1217). Now in Naples Archaeological Museum.  Inventory number 9052.\n",
      "---\n"
     ]
    }
   ],
   "source": [
    "# original search query, annotated\n",
    "import plodlib  # Import the plodlib package for interacting with P-LOD data\n",
    "import json  # Import the json package for working with JSON data\n",
    "import pandas as pd  # Import the pandas package for data manipulation\n",
    "from string import Template  # Import Template from the string package for templating\n",
    "import rdflib as rdf  # Import the rdflib package for working with RDF data\n",
    "import requests_cache # Not used\n",
    "import requests  # Import the requests package for making HTTP requests\n",
    "\n",
    "def search_images(search_term):\n",
    "  \"\"\"\n",
    "    Searches the P-LOD triplestore for resources whose labels\n",
    "    contain a specified term. Returns a list of image URLs\n",
    "    and associated information for those resources.\n",
    "\n",
    "    Args:\n",
    "        search_term (str): The term to search for within labels.\n",
    "\n",
    "    Returns:\n",
    "        list: A list of dictionaries, each containing information about an image\n",
    "        and its associated concept. Returns an empty list if no matching\n",
    "        results are found.\n",
    "    \"\"\"\n",
    "\n",
    "  # 1. Connect to the remote triplestore (database) with read-only connection\n",
    "  #    The triplestore stores data as RDF triples (subject, predicate, object)\n",
    "  #    This block creates a connection to the database using rdflib\n",
    "  store = rdf.plugins.stores.sparqlstore.SPARQLStore(\n",
    "      query_endpoint = \"http://52.170.134.25:3030/plod_endpoint/query\", # URL of the SPARQL endpoint\n",
    "      context_aware = False, # Don't worry about contexts\n",
    "      returnFormat = 'json' # We want results in JSON format\n",
    "      )\n",
    "  g = rdf.Graph(store)  # Create an RDF graph object using our connection\n",
    "\n",
    "  # 2. Define a SPARQL query to retrieve data from the triplestore\n",
    "  #    SPARQL is a query language for RDF data\n",
    "  #    This query retrieves concepts, their labels, image URNs, and associated LUNA IDs\n",
    "  qt = Template(\"\"\"\n",
    "      PREFIX p-lod: <urn:p-lod:id:>  # Define a prefix for P-LOD identifiers\n",
    "      PREFIX rdfs: <http://www.w3.org/2000/01/rdf-schema#>  # Define a prefix for RDF Schema\n",
    "\n",
    "      SELECT DISTINCT ?concept ?concept_label ?img_urn ?l_record ?l_media ?l_batch ?l_description\n",
    "      # Select distinct concepts, concept labels, image URNs, and LUNA IDs\n",
    "\n",
    "      WHERE { # Start the query\n",
    "        ?concept rdfs:label ?concept_label . # Find concepts and their labels\n",
    "        FILTER regex(?concept_label, \"$search_term\", \"i\") # Filter by the search term (case-insensitive)\n",
    "\n",
    "        # There are two ways that a concept can be associated with an image\n",
    "        { ?component p-lod:depicts ?concept .  # Find components that depict a concept\n",
    "          ?component p-lod:best-image ?img_urn . # Find the best image of that component\n",
    "         }\n",
    "         UNION # Or\n",
    "         {\n",
    "           ?concept p-lod:best-image ?img_urn . # Find if the concept itself has an image\n",
    "         }\n",
    "\n",
    "        ?img_urn p-lod:x-luna-record-id ?l_record . # Find the LUNA record ID for the image\n",
    "        ?img_urn p-lod:x-luna-media-id  ?l_media . # Find the LUNA media ID for the image\n",
    "        ?img_urn p-lod:x-luna-batch-id  ?l_batch . # Find the LUNA batch ID for the image\n",
    "        ?img_urn p-lod:x-luna-description ?l_description . # Find the LUNA description for the image\n",
    "      }\n",
    "  \"\"\")\n",
    "\n",
    "  # 3. Execute the SPARQL query\n",
    "  #    The query is formatted using the Template and then sent to the triplestore.\n",
    "  results = g.query(qt.substitute(search_term = search_term))\n",
    "\n",
    "  # 4. Convert the results into a Pandas DataFrame\n",
    "  #    A DataFrame is like a table that is easy to work with\n",
    "  results_df = pd.DataFrame(results, columns = results.json['head']['vars'])\n",
    "\n",
    "  # 5. If no results were found return an empty list\n",
    "  if len(results_df) == 0:\n",
    "      return []\n",
    "\n",
    "  # 6. Define a helper function to get additional image info from LUNA\n",
    "  def add_luna_info_search(row):\n",
    "      \"\"\"\n",
    "      Retrieves image URLs and descriptions from LUNA based on\n",
    "      the image information from the triplestore.\n",
    "\n",
    "      Args:\n",
    "          row (pandas.Series): A row from the DataFrame containing\n",
    "              image info from the triplestore.\n",
    "\n",
    "      Returns:\n",
    "          pandas.Series: The row with additional img_url and img_current_description added\n",
    "      \"\"\"\n",
    "\n",
    "      img_src = None #default if no URLs present (probably means LUNA doesn't have image though triplestore thinks it does)\n",
    "      img_description = None #default if no image description\n",
    "      tilde_val = plodlib.luna_tilde_val(row['img_urn']) # Get the tilde value from the image URN using plodlib\n",
    "\n",
    "      # 7. Make a request to the LUNA API to fetch image data\n",
    "      #    The URL is generated dynamically using the information retrieved from triplestore and plodlib\n",
    "      luna_json = json.loads(requests.get(f'https://umassamherst.lunaimaging.com/luna/servlet/as/fetchMediaSearch?mid=umass~{tilde_val}~{tilde_val}~{row[\"l_record\"]}~{row[\"l_media\"]}&fullData=true').text)\n",
    "\n",
    "      # 8. Extract relevant information from the JSON response\n",
    "      if len(luna_json): # if the request returns information\n",
    "          img_attributes = json.loads(luna_json[0]['attributes']) # Load all the attributes as json\n",
    "          if 'image_description_english' in img_attributes.keys(): # If an english description is available, use it\n",
    "              img_description = img_attributes['image_description_english']\n",
    "          else: # if no english description is available, try other methods based on collection type\n",
    "            try:\n",
    "                if   tilde_val == '14': # collection 14 has this pattern\n",
    "                  img_description = json.loads(luna_json[0]['fieldValues'])[2]['value']\n",
    "                elif tilde_val == '16': # collection 16 has this pattern\n",
    "                  img_description = json.loads(luna_json[0]['fieldValues'])[1]['value']\n",
    "                else: # if the collection type is unknown, return this\n",
    "                  img_description = f\"unrecognized collection {tilde_val}\"\n",
    "            except:\n",
    "                img_description = \"Trying to get description failed\" # catch exceptions when getting descriptions\n",
    "\n",
    "          if 'urlSize4' in img_attributes.keys(): # use size 4, sure, but only if there's nothing else\n",
    "            img_src = img_attributes['urlSize4']\n",
    "          if 'urlSize2' in img_attributes.keys(): # preferred image size\n",
    "            img_src = img_attributes['urlSize2']\n",
    "          elif 'urlSize3' in img_attributes.keys(): # then size 3\n",
    "            img_src = img_attributes['urlSize3']\n",
    "          else: # then size 1 if no others exist\n",
    "            img_src = img_attributes['urlSize1']\n",
    "\n",
    "      row['img_url'] = img_src # Add the image url to the row\n",
    "      row['img_current_description'] = img_description # Add the image description to the row\n",
    "      return row # Return the modified row\n",
    "\n",
    "  # 9. Apply the add_luna_info_search function to each row of the DataFrame\n",
    "  results_df = results_df.apply(add_luna_info_search, axis = 1)\n",
    "\n",
    "  # 10. Convert the DataFrame back into a list of dictionaries\n",
    "  return results_df.to_dict(orient='records')\n",
    "\n",
    "# Example usage:\n",
    "search_term = \"theseus\" # The concept to search\n",
    "image_results = search_images(search_term) # Run the search using the search term and store the results\n",
    "\n",
    "# 11. Print the results to the console\n",
    "if image_results: # If there are results\n",
    "    for item in image_results: # iterate through each result\n",
    "        print(f\"Concept: {item['concept_label']}\") # print the concept\n",
    "        print(f\"Image URL: {item['img_url']}\") # print the image url\n",
    "        print(f\"Image Description: {item['img_current_description']}\") # print the description of the image\n",
    "        print(\"---\") # print a visual separator\n",
    "else: # if no results\n",
    "    print(f\"No images found for '{search_term}'\") # print a message that no results were found"
   ]
  },
  {
   "cell_type": "code",
   "execution_count": null,
   "metadata": {
    "colab": {
     "base_uri": "https://localhost:8080/"
    },
    "id": "BPP9lkeacGaB",
    "outputId": "ce612026-9338-4919-b1b5-60be26ae8f53"
   },
   "outputs": [],
   "source": [
    "import pandas as pd\n",
    "from typing import List, Dict\n",
    "\n",
    "def export_image_results_to_csv(image_results: List[Dict], filename: str):\n",
    "    \"\"\"\n",
    "    Converts a list of image result dictionaries into a Pandas DataFrame\n",
    "    and writes it to a CSV file.\n",
    "\n",
    "    Args:\n",
    "        image_results (List[Dict]): A list of dictionaries, where each dictionary\n",
    "            contains information about an image and its associated concept.\n",
    "        filename (str): The name of the CSV file to be created.\n",
    "    \"\"\"\n",
    "    if not image_results:\n",
    "        print(\"No image results to export.\")\n",
    "        return\n",
    "\n",
    "    try:\n",
    "        # 1. Convert the list of dictionaries into a Pandas DataFrame\n",
    "        df = pd.DataFrame(image_results)\n",
    "\n",
    "        # 2. Write the DataFrame to a CSV file\n",
    "        df.to_csv(filename, index=False, encoding='utf-8') #index = False prevents the row index from being written.\n",
    "        print(f\"Successfully exported image results to '{filename}'\")\n",
    "\n",
    "    except Exception as e:\n",
    "        print(f\"Error exporting image results to CSV: {e}\")\n",
    "\n",
    "\n",
    "export_image_results_to_csv(image_results, \"image_results.csv\")"
   ]
  },
  {
   "cell_type": "markdown",
   "metadata": {},
   "source": [
    "## doing something new now"
   ]
  },
  {
   "cell_type": "markdown",
   "metadata": {},
   "source": [
    "something new, downloading by a list of arc identifiers"
   ]
  },
  {
   "cell_type": "code",
   "execution_count": 57,
   "metadata": {},
   "outputs": [
    {
     "name": "stdout",
     "output_type": "stream",
     "text": [
      "All data processed. Output CSV file: plod_data_enriched.csv\n"
     ]
    }
   ],
   "source": [
    "import requests\n",
    "import csv\n",
    "import json\n",
    "import os\n",
    "import re\n",
    "\n",
    "# API base URL\n",
    "API_BASE_URL = \"https://api.p-lod.org/\"\n",
    "\n",
    "# Output CSV file\n",
    "OUTPUT_CSV_FILE = \"plod_data_enriched.csv\"\n",
    "\n",
    "# Input CSV file - change this to your existing CSV file\n",
    "INPUT_CSV_FILE = \"PPP_ALL_Region_1_test.csv\"  # <-- REPLACE THIS WITH YOUR INPUT CSV FILE\n",
    "\n",
    "def flatten_json(json_obj, key_prefix=\"\", sep=\".\"):\n",
    "    items = []\n",
    "    for k, v in json_obj.items():\n",
    "        new_key = key_prefix + sep + k if key_prefix else k\n",
    "        if isinstance(v, dict):\n",
    "            items.extend(flatten_json(v, new_key, sep=sep).items())\n",
    "        elif isinstance(v, list):\n",
    "            for i, item in enumerate(v):\n",
    "              if isinstance(item, dict):\n",
    "                items.extend(flatten_json(item, f\"{new_key}.{i}\", sep=sep).items())\n",
    "              else:\n",
    "                 items.append((f\"{new_key}.{i}\", item))\n",
    "        else:\n",
    "            items.append((new_key, v))\n",
    "    return dict(items)\n",
    "\n",
    "\n",
    "def get_image_data(arc_identifier):\n",
    "    \"\"\"\n",
    "    Retrieves image data from the /images/{identifier} endpoint.\n",
    "\n",
    "    Args:\n",
    "        arc_identifier: The ARC identifier (e.g., 'ARC_026824').\n",
    "\n",
    "    Returns:\n",
    "        The JSON response as a dictionary, or None if there is an error.\n",
    "    \"\"\"\n",
    "    image_data = None\n",
    "    try:\n",
    "        api_image_url = f\"{API_BASE_URL}images/{arc_identifier}\"\n",
    "        api_image_response = requests.get(api_image_url)\n",
    "        api_image_response.raise_for_status()\n",
    "        image_data = api_image_response.json()\n",
    "    except requests.exceptions.RequestException as e:\n",
    "        print(f\"Error fetching image data for {arc_identifier}: {e}\")\n",
    "    return image_data\n",
    "\n",
    "def get_concepts_data(arc_identifier):\n",
    "    \"\"\"\n",
    "    Retrieves concept data from the /depicts-concepts/{identifier} endpoint.\n",
    "\n",
    "    Args:\n",
    "        arc_identifier: The ARC identifier (e.g., 'ARC_026824').\n",
    "\n",
    "    Returns:\n",
    "        A list of concepts (strings), or None if there is an error.\n",
    "    \"\"\"\n",
    "    concepts_data = None\n",
    "    try:\n",
    "        api_concepts_url = f\"{API_BASE_URL}depicts-concepts/{arc_identifier}\"\n",
    "        api_concepts_response = requests.get(api_concepts_url)\n",
    "        api_concepts_response.raise_for_status()\n",
    "        concepts_data = api_concepts_response.json()\n",
    "    except requests.exceptions.RequestException as e:\n",
    "       print(f\"Error fetching concept data for {arc_identifier}: {e}\")\n",
    "    \n",
    "    if concepts_data: # Extract concept URNs after 'urn:p-lod:id:'\n",
    "        concepts = [concept['urn'].replace(\"urn:p-lod:id:\", \"\") for concept in concepts_data if isinstance(concept, dict) and 'urn' in concept]\n",
    "        return concepts\n",
    "    else:\n",
    "       return None\n",
    "\n",
    "def get_geojson_data(arc_identifier):\n",
    "    \"\"\"\n",
    "    Retrieves GeoJSON data from the /geojson/{identifier} endpoint.\n",
    "\n",
    "    Args:\n",
    "        arc_identifier: The ARC identifier (e.g., 'ARC_026824').\n",
    "\n",
    "    Returns:\n",
    "        The GeoJSON response as a dictionary, or None if there is an error.\n",
    "    \"\"\"\n",
    "    geojson_data = None\n",
    "    try:\n",
    "        api_geojson_url = f\"{API_BASE_URL}geojson/{arc_identifier}\"\n",
    "        api_geojson_response = requests.get(api_geojson_url)\n",
    "        api_geojson_response.raise_for_status()\n",
    "        geojson_data = api_geojson_response.json()\n",
    "    except requests.exceptions.RequestException as e:\n",
    "        print(f\"Error fetching GeoJSON data for {arc_identifier}: {e}\")\n",
    "    return geojson_data\n",
    "\n",
    "\n",
    "def write_enriched_data_to_csv(all_data, csv_file):\n",
    "    \"\"\"\n",
    "    Flattens JSON data and writes it to a CSV file, including concept and geojson information.\n",
    "\n",
    "    Args:\n",
    "        all_data: A list of dictionaries containing the original row data, image, concept, and geojson data.\n",
    "        csv_file: The path to the CSV file.\n",
    "    \"\"\"\n",
    "    with open(csv_file, mode='w', newline='', encoding='utf-8') as csvfile:\n",
    "        writer = None  # Initialize writer\n",
    "\n",
    "        if all_data:\n",
    "            for data in all_data:\n",
    "                original_row = data.get('original_row') # unpack original csv row\n",
    "                image_data = data.get('image_data') # unpacking data dictionary\n",
    "                concepts = data.get('concepts') # unpacking data dictionary\n",
    "                geojson = data.get('geojson')\n",
    "                if image_data:\n",
    "                    if isinstance(image_data, list):\n",
    "                        for item in image_data:\n",
    "                            flattened_data = flatten_json(item)\n",
    "                            flattened_data['concepts'] = json.dumps(concepts) #Adding concept\n",
    "                            flattened_data['geojson'] = json.dumps(geojson)  # Add geojson\n",
    "                            merged_data = {**original_row, **flattened_data} # merge the original row, with the new data\n",
    "                            if not writer:\n",
    "                                fieldnames = list(merged_data.keys())\n",
    "                                writer = csv.DictWriter(csvfile, fieldnames=fieldnames)\n",
    "                                writer.writeheader()\n",
    "                            writer.writerow(merged_data)\n",
    "                    elif isinstance(image_data,dict):\n",
    "                         flattened_data = flatten_json(image_data)\n",
    "                         flattened_data['concepts'] = json.dumps(concepts)\n",
    "                         flattened_data['geojson'] = json.dumps(geojson) # Add geojson\n",
    "                         merged_data = {**original_row, **flattened_data} # merge the original row, with the new data\n",
    "                         if not writer:\n",
    "                             fieldnames = list(merged_data.keys())\n",
    "                             writer = csv.DictWriter(csvfile, fieldnames=fieldnames)\n",
    "                             writer.writeheader()\n",
    "                         writer.writerow(merged_data)\n",
    "\n",
    "\n",
    "if __name__ == '__main__':\n",
    "    # Read the existing csv file, and extract the ARC ids\n",
    "    all_data = []\n",
    "    with open(INPUT_CSV_FILE, mode='r', encoding='utf-8') as csvfile:\n",
    "        reader = csv.DictReader(csvfile)\n",
    "        for row in reader:\n",
    "           arc_id = row.get(\"ARCs\") # change this to the name of the column with ARC id\n",
    "           if arc_id:\n",
    "              image_data = get_image_data(arc_id)\n",
    "              concepts_data = get_concepts_data(arc_id)\n",
    "              geojson_data = get_geojson_data(arc_id) # Get geojson data\n",
    "              all_data.append({'original_row':row, 'image_data':image_data, 'concepts': concepts_data, 'geojson':geojson_data}) # add geojson to all_data\n",
    "           else:\n",
    "               print(f\"Skipping row, no ARC id: {row}\")\n",
    "    write_enriched_data_to_csv(all_data, OUTPUT_CSV_FILE)\n",
    "    print(f\"All data processed. Output CSV file: {OUTPUT_CSV_FILE}\")"
   ]
  },
  {
   "cell_type": "code",
   "execution_count": 56,
   "metadata": {},
   "outputs": [
    {
     "name": "stdout",
     "output_type": "stream",
     "text": [
      "Downloaded image to: plod_images/PPM1_2.jpg\n",
      "Downloaded image to: plod_images/image13871.jpg\n",
      "Downloaded image to: plod_images/image32566.jpg\n",
      "Downloaded image to: plod_images/PPM1_11.jpg\n",
      "Downloaded image to: plod_images/image32568.jpg\n",
      "Downloaded image to: plod_images/image13871.jpg\n",
      "Downloaded image to: plod_images/image13878.jpg\n",
      "Downloaded image to: plod_images/image32550.jpg\n",
      "Downloaded image to: plod_images/image32559.jpg\n",
      "Downloaded image to: plod_images/image13875.jpg\n",
      "Downloaded image to: plod_images/image13869.jpg\n",
      "Downloaded image to: plod_images/PPM1_16.jpg\n",
      "Downloaded image to: plod_images/PPM1_20.jpg\n",
      "Downloaded image to: plod_images/PPM1_14.jpg\n",
      "Downloaded image to: plod_images/PPM1_15.jpg\n"
     ]
    }
   ],
   "source": [
    "def download_images_from_csv(csv_file, image_dir):\n",
    "    \"\"\"Downloads images from URLs found in a CSV file.\"\"\"\n",
    "    with open(csv_file, mode='r', encoding='utf-8') as csvfile:\n",
    "        reader = csv.DictReader(csvfile)\n",
    "        for row in reader:\n",
    "            for key, value in row.items():\n",
    "                if key.startswith(\"l_img_url\") and value: # If the field starts with `l_img_url` then it is an image.\n",
    "                    download_image(value, image_dir)\n",
    "\n",
    "def download_image(image_url, image_dir):\n",
    "    \"\"\"Downloads an image from a URL and saves it to the specified directory.\"\"\"\n",
    "    if not image_url:\n",
    "        print(\"Skipping empty image url\")\n",
    "        return None\n",
    "\n",
    "    try:\n",
    "        response = requests.get(image_url)\n",
    "        response.raise_for_status()  # Raise an exception for bad status codes\n",
    "\n",
    "        filename = os.path.basename(image_url)  # get filename from URL\n",
    "\n",
    "        image_path = os.path.join(image_dir, filename)\n",
    "        with open(image_path, 'wb') as f:\n",
    "            f.write(response.content)\n",
    "        print(f\"Downloaded image to: {image_path}\")\n",
    "        return image_path\n",
    "\n",
    "\n",
    "    except requests.exceptions.RequestException as e:\n",
    "        print(f\"Error downloading image from {image_url}: {e}\")\n",
    "        return None\n",
    "\n",
    "download_images_from_csv('plod_data_enriched.csv', 'plod_images')"
   ]
  },
  {
   "cell_type": "code",
   "execution_count": null,
   "metadata": {},
   "outputs": [],
   "source": []
  }
 ],
 "metadata": {
  "colab": {
   "provenance": []
  },
  "kernelspec": {
   "display_name": "Python 3 (ipykernel)",
   "language": "python",
   "name": "python3"
  },
  "language_info": {
   "codemirror_mode": {
    "name": "ipython",
    "version": 3
   },
   "file_extension": ".py",
   "mimetype": "text/x-python",
   "name": "python",
   "nbconvert_exporter": "python",
   "pygments_lexer": "ipython3",
   "version": "3.10.16"
  }
 },
 "nbformat": 4,
 "nbformat_minor": 4
}
